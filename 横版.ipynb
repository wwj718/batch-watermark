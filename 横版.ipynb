{
 "cells": [
  {
   "cell_type": "code",
   "execution_count": 4,
   "metadata": {},
   "outputs": [],
   "source": [
    "import json\n",
    "import subprocess\n",
    "import pathlib"
   ]
  },
  {
   "cell_type": "code",
   "execution_count": 5,
   "metadata": {},
   "outputs": [],
   "source": [
    "# 加载数据文件\n",
    "with open(\"video_config.json\") as f:\n",
    "    j = json.loads(f.read())"
   ]
  },
  {
   "cell_type": "code",
   "execution_count": 6,
   "metadata": {},
   "outputs": [
    {
     "data": {
      "text/plain": [
       "[{'src': 'https://adapter.codelab.club/video/1598408857132487.mp4 ',\n",
       "  'title': '魔法烟花秀',\n",
       "  'num': '3'},\n",
       " {'src': 'https://codelab-adapter-docs.codelab.club/video/wand_catapult_demo.mp4 ',\n",
       "  'title': 'Fire！1',\n",
       "  'num': '3'}]"
      ]
     },
     "execution_count": 6,
     "metadata": {},
     "output_type": "execute_result"
    }
   ],
   "source": [
    "j[\"来自CodeLab\"][:2]"
   ]
  },
  {
   "cell_type": "code",
   "execution_count": 7,
   "metadata": {},
   "outputs": [
    {
     "data": {
      "text/plain": [
       "86"
      ]
     },
     "execution_count": 7,
     "metadata": {},
     "output_type": "execute_result"
    }
   ],
   "source": [
    "len(j[\"来自CodeLab\"]) # 视频数量"
   ]
  },
  {
   "cell_type": "code",
   "execution_count": 8,
   "metadata": {},
   "outputs": [],
   "source": [
    "# 下载视频到 videos2 目录\n",
    "# mkdir videos2\n",
    "def download_videos():\n",
    "    for i in j[\"来自CodeLab\"]:\n",
    "        # print(i['src']) # url\n",
    "        # print(i[\"title\"])\n",
    "        # todo curl\n",
    "        title = i['title']\n",
    "        # curl https://adapter.codelab.club/video/1598408857132487.mp4  -o 魔法烟花秀.mp4\n",
    "        cmd = f\"curl {i['src']}  -o 'videos2/{title}.mp4'\"\n",
    "        # print(cmd)\n",
    "        # subprocess.Popen(cmd, shell=True)\n",
    "# download_videos()"
   ]
  },
  {
   "cell_type": "code",
   "execution_count": 7,
   "metadata": {},
   "outputs": [],
   "source": [
    "p = pathlib.Path(\"./videos2\") # videos2 视频存储目录 download_videos\n",
    "files = [f.stem for f in p.iterdir() if \"mp4\" in  str(f)]"
   ]
  },
  {
   "cell_type": "code",
   "execution_count": 8,
   "metadata": {},
   "outputs": [
    {
     "data": {
      "text/plain": [
       "86"
      ]
     },
     "execution_count": 8,
     "metadata": {},
     "output_type": "execute_result"
    }
   ],
   "source": [
    "len(files)"
   ]
  },
  {
   "cell_type": "code",
   "execution_count": 9,
   "metadata": {},
   "outputs": [
    {
     "data": {
      "text/plain": [
       "'ok'"
      ]
     },
     "execution_count": 9,
     "metadata": {},
     "output_type": "execute_result"
    }
   ],
   "source": [
    "# 找到缺少的是什么\n",
    "# 找到目录列表\n",
    "titles = []\n",
    "[titles.append(v[\"title\"]) for v  in j[\"来自CodeLab\"]]"
   ]
  },
  {
   "cell_type": "code",
   "execution_count": 10,
   "metadata": {},
   "outputs": [],
   "source": [
    "assert set(titles) == set(files)"
   ]
  },
  {
   "cell_type": "code",
   "execution_count": 11,
   "metadata": {},
   "outputs": [],
   "source": [
    "# 加水印\n",
    "def mp4_tr(old_name, new_name):\n",
    "    cmd = f'ffmpeg -i \"videos2/{old_name}.mp4\" -vf \"movie=Logo.png[watermark];[in][watermark] overlay=main_w-overlay_w-10:main_h-overlay_h-10[out]\" \"横版/{new_name}.mp4\"'\n",
    "    print(cmd)\n",
    "    subprocess.Popen(cmd, shell=True)\n",
    "# mp4_tr(\"四轴飞行器\",\"new_\"+ \"四轴飞行器\")"
   ]
  },
  {
   "cell_type": "code",
   "execution_count": 9,
   "metadata": {},
   "outputs": [],
   "source": [
    "[mp4_tr(str(x.stem),\"new_\"+ str(x.stem)) for x in p.iterdir() if \"mp4\" in str(x)]"
   ]
  },
  {
   "cell_type": "code",
   "execution_count": 13,
   "metadata": {},
   "outputs": [
    {
     "name": "stdout",
     "output_type": "stream",
     "text": [
      "      87\n"
     ]
    }
   ],
   "source": [
    "# !ls 横版 |wc -l"
   ]
  }
 ],
 "metadata": {
  "kernelspec": {
   "display_name": "Python 3",
   "language": "python",
   "name": "python3"
  },
  "language_info": {
   "codemirror_mode": {
    "name": "ipython",
    "version": 3
   },
   "file_extension": ".py",
   "mimetype": "text/x-python",
   "name": "python",
   "nbconvert_exporter": "python",
   "pygments_lexer": "ipython3",
   "version": "3.8.2"
  }
 },
 "nbformat": 4,
 "nbformat_minor": 4
}
